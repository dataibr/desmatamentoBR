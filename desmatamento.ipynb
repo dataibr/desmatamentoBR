{
 "cells": [
  {
   "cell_type": "code",
   "execution_count": 1,
   "id": "4ed34b19",
   "metadata": {},
   "outputs": [],
   "source": [
    "import pandas as pd\n",
    "import numpy as np\n",
    "import matplotlib.pyplot as plt\n",
    "import seaborn as sns\n",
    "\n"
   ]
  },
  {
   "cell_type": "code",
   "execution_count": 3,
   "id": "a0f87858",
   "metadata": {},
   "outputs": [
    {
     "name": "stdout",
     "output_type": "stream",
     "text": [
      "<class 'pandas.core.frame.DataFrame'>\n",
      "RangeIndex: 35 entries, 0 to 34\n",
      "Data columns (total 11 columns):\n",
      " #   Column                   Non-Null Count  Dtype\n",
      "---  ------                   --------------  -----\n",
      " 0   referencia               35 non-null     int64\n",
      " 1   acre                     35 non-null     int64\n",
      " 2   amazonas                 35 non-null     int64\n",
      " 3   amapa                    35 non-null     int64\n",
      " 4   maranhao                 35 non-null     int64\n",
      " 5   mato_grosso              35 non-null     int64\n",
      " 6   para                     35 non-null     int64\n",
      " 7   rondonia                 35 non-null     int64\n",
      " 8   roraima                  35 non-null     int64\n",
      " 9   tocantins                35 non-null     int64\n",
      " 10  area_total_desmatamento  35 non-null     int64\n",
      "dtypes: int64(11)\n",
      "memory usage: 3.1 KB\n"
     ]
    }
   ],
   "source": [
    "df = pd.read_csv('desmatamento_BR.csv')\n",
    "df.info()"
   ]
  },
  {
   "cell_type": "code",
   "execution_count": null,
   "id": "edc6e9e8",
   "metadata": {},
   "outputs": [],
   "source": []
  }
 ],
 "metadata": {
  "kernelspec": {
   "display_name": "Python 3",
   "language": "python",
   "name": "python3"
  },
  "language_info": {
   "codemirror_mode": {
    "name": "ipython",
    "version": 3
   },
   "file_extension": ".py",
   "mimetype": "text/x-python",
   "name": "python",
   "nbconvert_exporter": "python",
   "pygments_lexer": "ipython3",
   "version": "3.8.8"
  }
 },
 "nbformat": 4,
 "nbformat_minor": 5
}
