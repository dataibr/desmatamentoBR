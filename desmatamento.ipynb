{
 "cells": [
  {
   "cell_type": "code",
   "execution_count": 52,
   "id": "4ed34b19",
   "metadata": {},
   "outputs": [],
   "source": [
    "import pandas as pd\n",
    "import numpy as np\n",
    "import matplotlib.pyplot as plt\n",
    "import seaborn as sns\n",
    "\n"
   ]
  },
  {
   "cell_type": "code",
   "execution_count": 53,
   "id": "a0f87858",
   "metadata": {},
   "outputs": [
    {
     "name": "stdout",
     "output_type": "stream",
     "text": [
      "<class 'pandas.core.frame.DataFrame'>\n",
      "RangeIndex: 35 entries, 0 to 34\n",
      "Data columns (total 11 columns):\n",
      " #   Column                   Non-Null Count  Dtype\n",
      "---  ------                   --------------  -----\n",
      " 0   referencia               35 non-null     int64\n",
      " 1   acre                     35 non-null     int64\n",
      " 2   amazonas                 35 non-null     int64\n",
      " 3   amapa                    35 non-null     int64\n",
      " 4   maranhao                 35 non-null     int64\n",
      " 5   mato_grosso              35 non-null     int64\n",
      " 6   para                     35 non-null     int64\n",
      " 7   rondonia                 35 non-null     int64\n",
      " 8   roraima                  35 non-null     int64\n",
      " 9   tocantins                35 non-null     int64\n",
      " 10  area_total_desmatamento  35 non-null     int64\n",
      "dtypes: int64(11)\n",
      "memory usage: 3.1 KB\n"
     ]
    }
   ],
   "source": [
    "df = pd.read_csv('desmatamento_BR.csv')\n",
    "#tipo de dados da tabela\n",
    "df.info()"
   ]
  },
  {
   "cell_type": "code",
   "execution_count": 54,
   "id": "edc6e9e8",
   "metadata": {},
   "outputs": [
    {
     "data": {
      "text/html": [
       "<div>\n",
       "<style scoped>\n",
       "    .dataframe tbody tr th:only-of-type {\n",
       "        vertical-align: middle;\n",
       "    }\n",
       "\n",
       "    .dataframe tbody tr th {\n",
       "        vertical-align: top;\n",
       "    }\n",
       "\n",
       "    .dataframe thead th {\n",
       "        text-align: right;\n",
       "    }\n",
       "</style>\n",
       "<table border=\"1\" class=\"dataframe\">\n",
       "  <thead>\n",
       "    <tr style=\"text-align: right;\">\n",
       "      <th></th>\n",
       "      <th>referencia</th>\n",
       "      <th>acre</th>\n",
       "      <th>amazonas</th>\n",
       "      <th>amapa</th>\n",
       "      <th>maranhao</th>\n",
       "      <th>mato_grosso</th>\n",
       "      <th>para</th>\n",
       "      <th>rondonia</th>\n",
       "      <th>roraima</th>\n",
       "      <th>tocantins</th>\n",
       "      <th>area_total_desmatamento</th>\n",
       "    </tr>\n",
       "  </thead>\n",
       "  <tbody>\n",
       "    <tr>\n",
       "      <th>0</th>\n",
       "      <td>1988</td>\n",
       "      <td>620</td>\n",
       "      <td>1510</td>\n",
       "      <td>60</td>\n",
       "      <td>2450</td>\n",
       "      <td>5140</td>\n",
       "      <td>6990</td>\n",
       "      <td>2340</td>\n",
       "      <td>290</td>\n",
       "      <td>1650</td>\n",
       "      <td>21050</td>\n",
       "    </tr>\n",
       "    <tr>\n",
       "      <th>1</th>\n",
       "      <td>1989</td>\n",
       "      <td>540</td>\n",
       "      <td>1180</td>\n",
       "      <td>130</td>\n",
       "      <td>1420</td>\n",
       "      <td>5960</td>\n",
       "      <td>5750</td>\n",
       "      <td>1430</td>\n",
       "      <td>630</td>\n",
       "      <td>730</td>\n",
       "      <td>17770</td>\n",
       "    </tr>\n",
       "    <tr>\n",
       "      <th>2</th>\n",
       "      <td>1990</td>\n",
       "      <td>550</td>\n",
       "      <td>520</td>\n",
       "      <td>250</td>\n",
       "      <td>1100</td>\n",
       "      <td>4020</td>\n",
       "      <td>4890</td>\n",
       "      <td>1670</td>\n",
       "      <td>150</td>\n",
       "      <td>580</td>\n",
       "      <td>13730</td>\n",
       "    </tr>\n",
       "    <tr>\n",
       "      <th>3</th>\n",
       "      <td>1991</td>\n",
       "      <td>380</td>\n",
       "      <td>980</td>\n",
       "      <td>410</td>\n",
       "      <td>670</td>\n",
       "      <td>2840</td>\n",
       "      <td>3780</td>\n",
       "      <td>1110</td>\n",
       "      <td>420</td>\n",
       "      <td>440</td>\n",
       "      <td>11030</td>\n",
       "    </tr>\n",
       "    <tr>\n",
       "      <th>4</th>\n",
       "      <td>1992</td>\n",
       "      <td>400</td>\n",
       "      <td>799</td>\n",
       "      <td>36</td>\n",
       "      <td>1135</td>\n",
       "      <td>4674</td>\n",
       "      <td>3787</td>\n",
       "      <td>2265</td>\n",
       "      <td>281</td>\n",
       "      <td>409</td>\n",
       "      <td>13786</td>\n",
       "    </tr>\n",
       "  </tbody>\n",
       "</table>\n",
       "</div>"
      ],
      "text/plain": [
       "   referencia  acre  amazonas  amapa  maranhao  mato_grosso  para  rondonia  \\\n",
       "0        1988   620      1510     60      2450         5140  6990      2340   \n",
       "1        1989   540      1180    130      1420         5960  5750      1430   \n",
       "2        1990   550       520    250      1100         4020  4890      1670   \n",
       "3        1991   380       980    410       670         2840  3780      1110   \n",
       "4        1992   400       799     36      1135         4674  3787      2265   \n",
       "\n",
       "   roraima  tocantins  area_total_desmatamento  \n",
       "0      290       1650                    21050  \n",
       "1      630        730                    17770  \n",
       "2      150        580                    13730  \n",
       "3      420        440                    11030  \n",
       "4      281        409                    13786  "
      ]
     },
     "execution_count": 54,
     "metadata": {},
     "output_type": "execute_result"
    }
   ],
   "source": [
    "df.head()"
   ]
  },
  {
   "cell_type": "code",
   "execution_count": 55,
   "id": "a94b5a5b",
   "metadata": {},
   "outputs": [
    {
     "data": {
      "text/plain": [
       "(35, 11)"
      ]
     },
     "execution_count": 55,
     "metadata": {},
     "output_type": "execute_result"
    }
   ],
   "source": [
    "#dimensão da tabela desmatamento\n",
    "df.shape"
   ]
  },
  {
   "cell_type": "code",
   "execution_count": 56,
   "id": "fc381d94",
   "metadata": {},
   "outputs": [],
   "source": [
    "#Renomear colunas\n",
    "df.rename(columns={\n",
    "    'referencia':'Ano',\n",
    "    'acre':'Acre',\n",
    "    'amazonas':'Amazonas',\n",
    "    'amapa':'Amapá',\n",
    "    'maranhao':'Maranhão',\n",
    "    'mato_grosso':'Mato Grosso',\n",
    "    'para':'Pará',\n",
    "    'rondonia':'Rondônia',\n",
    "    'roraima':'Roraima',\n",
    "    'tocantins':'Tocantins',\n",
    "    'area_total_desmatamento':'Área de Desmatamento'\n",
    "    \n",
    "}, inplace=True)"
   ]
  },
  {
   "cell_type": "code",
   "execution_count": 57,
   "id": "4a0601a1",
   "metadata": {},
   "outputs": [
    {
     "data": {
      "text/html": [
       "<div>\n",
       "<style scoped>\n",
       "    .dataframe tbody tr th:only-of-type {\n",
       "        vertical-align: middle;\n",
       "    }\n",
       "\n",
       "    .dataframe tbody tr th {\n",
       "        vertical-align: top;\n",
       "    }\n",
       "\n",
       "    .dataframe thead th {\n",
       "        text-align: right;\n",
       "    }\n",
       "</style>\n",
       "<table border=\"1\" class=\"dataframe\">\n",
       "  <thead>\n",
       "    <tr style=\"text-align: right;\">\n",
       "      <th></th>\n",
       "      <th>Ano</th>\n",
       "      <th>Acre</th>\n",
       "      <th>Amazonas</th>\n",
       "      <th>Amapá</th>\n",
       "      <th>Maranhão</th>\n",
       "      <th>Mato Grosso</th>\n",
       "      <th>Pará</th>\n",
       "      <th>Rondônia</th>\n",
       "      <th>Roraima</th>\n",
       "      <th>Tocantins</th>\n",
       "      <th>Área de Desmatamento</th>\n",
       "    </tr>\n",
       "  </thead>\n",
       "  <tbody>\n",
       "    <tr>\n",
       "      <th>0</th>\n",
       "      <td>1988</td>\n",
       "      <td>620</td>\n",
       "      <td>1510</td>\n",
       "      <td>60</td>\n",
       "      <td>2450</td>\n",
       "      <td>5140</td>\n",
       "      <td>6990</td>\n",
       "      <td>2340</td>\n",
       "      <td>290</td>\n",
       "      <td>1650</td>\n",
       "      <td>21050</td>\n",
       "    </tr>\n",
       "    <tr>\n",
       "      <th>1</th>\n",
       "      <td>1989</td>\n",
       "      <td>540</td>\n",
       "      <td>1180</td>\n",
       "      <td>130</td>\n",
       "      <td>1420</td>\n",
       "      <td>5960</td>\n",
       "      <td>5750</td>\n",
       "      <td>1430</td>\n",
       "      <td>630</td>\n",
       "      <td>730</td>\n",
       "      <td>17770</td>\n",
       "    </tr>\n",
       "    <tr>\n",
       "      <th>2</th>\n",
       "      <td>1990</td>\n",
       "      <td>550</td>\n",
       "      <td>520</td>\n",
       "      <td>250</td>\n",
       "      <td>1100</td>\n",
       "      <td>4020</td>\n",
       "      <td>4890</td>\n",
       "      <td>1670</td>\n",
       "      <td>150</td>\n",
       "      <td>580</td>\n",
       "      <td>13730</td>\n",
       "    </tr>\n",
       "    <tr>\n",
       "      <th>3</th>\n",
       "      <td>1991</td>\n",
       "      <td>380</td>\n",
       "      <td>980</td>\n",
       "      <td>410</td>\n",
       "      <td>670</td>\n",
       "      <td>2840</td>\n",
       "      <td>3780</td>\n",
       "      <td>1110</td>\n",
       "      <td>420</td>\n",
       "      <td>440</td>\n",
       "      <td>11030</td>\n",
       "    </tr>\n",
       "    <tr>\n",
       "      <th>4</th>\n",
       "      <td>1992</td>\n",
       "      <td>400</td>\n",
       "      <td>799</td>\n",
       "      <td>36</td>\n",
       "      <td>1135</td>\n",
       "      <td>4674</td>\n",
       "      <td>3787</td>\n",
       "      <td>2265</td>\n",
       "      <td>281</td>\n",
       "      <td>409</td>\n",
       "      <td>13786</td>\n",
       "    </tr>\n",
       "  </tbody>\n",
       "</table>\n",
       "</div>"
      ],
      "text/plain": [
       "    Ano  Acre  Amazonas  Amapá  Maranhão  Mato Grosso  Pará  Rondônia  \\\n",
       "0  1988   620      1510     60      2450         5140  6990      2340   \n",
       "1  1989   540      1180    130      1420         5960  5750      1430   \n",
       "2  1990   550       520    250      1100         4020  4890      1670   \n",
       "3  1991   380       980    410       670         2840  3780      1110   \n",
       "4  1992   400       799     36      1135         4674  3787      2265   \n",
       "\n",
       "   Roraima  Tocantins  Área de Desmatamento  \n",
       "0      290       1650                 21050  \n",
       "1      630        730                 17770  \n",
       "2      150        580                 13730  \n",
       "3      420        440                 11030  \n",
       "4      281        409                 13786  "
      ]
     },
     "execution_count": 57,
     "metadata": {},
     "output_type": "execute_result"
    }
   ],
   "source": [
    "df.head()"
   ]
  },
  {
   "cell_type": "code",
   "execution_count": 58,
   "id": "68669a82",
   "metadata": {},
   "outputs": [
    {
     "data": {
      "text/plain": [
       "Ano                     0\n",
       "Acre                    0\n",
       "Amazonas                0\n",
       "Amapá                   0\n",
       "Maranhão                0\n",
       "Mato Grosso             0\n",
       "Pará                    0\n",
       "Rondônia                0\n",
       "Roraima                 0\n",
       "Tocantins               0\n",
       "Área de Desmatamento    0\n",
       "dtype: int64"
      ]
     },
     "execution_count": 58,
     "metadata": {},
     "output_type": "execute_result"
    }
   ],
   "source": [
    "#Verificar campos nulos\n",
    "df.isnull().sum()"
   ]
  },
  {
   "cell_type": "code",
   "execution_count": 60,
   "id": "e4bf4b48",
   "metadata": {},
   "outputs": [
    {
     "data": {
      "image/png": "[encoded data removed]",
      "text/plain": [
       "<Figure size 1440x576 with 1 Axes>"
      ]
     },
     "metadata": {},
     "output_type": "display_data"
    }
   ],
   "source": [
    "# Análise de desmatamento por ano com gráfico barplot\n",
    "plt.figure(figsize=(20,8))\n",
    "plt.style.use('ggplot')\n",
    "sns.barplot(data=df, x='Ano', y='Área de Desmatamento', ci=None, color='#a2a2b3', estimator=sum);\n"
   ]
  },
  {
   "cell_type": "code",
   "execution_count": 61,
   "id": "f38f2b21",
   "metadata": {},
   "outputs": [
    {
     "data": {
      "image/png": "[encoded data removed]",
      "text/plain": [
       "<Figure size 1008x576 with 1 Axes>"
      ]
     },
     "metadata": {},
     "output_type": "display_data"
    }
   ],
   "source": [
    "# Análise de área desmatada com subplots\n",
    "\n",
    "fig, ax = plt.subplots(figsize=(14, 8))\n",
    "ax.scatter('Ano','Área de Desmatamento' , data=df)\n",
    "ax.set_xlabel('Ano')\n",
    "ax.set_ylabel('Total de área desmatada');"
   ]
  },
  {
   "cell_type": "code",
   "execution_count": 63,
   "id": "23565b48",
   "metadata": {},
   "outputs": [
    {
     "data": {
      "image/png": "[encoded data removed]",
      "text/plain": [
       "<Figure size 1008x576 with 1 Axes>"
      ]
     },
     "metadata": {},
     "output_type": "display_data"
    }
   ],
   "source": [
    "fig, ax = plt.subplots(figsize=(14, 8))\n",
    "ax.scatter('Ano','Amapá' , data=df)\n",
    "ax.set_xlabel('Ano')\n",
    "ax.set_ylabel('Área desmatada');"
   ]
  },
  {
   "cell_type": "code",
   "execution_count": null,
   "id": "6c09ec23",
   "metadata": {},
   "outputs": [],
   "source": []
  }
 ],
 "metadata": {
  "kernelspec": {
   "display_name": "Python 3",
   "language": "python",
   "name": "python3"
  },
  "language_info": {
   "codemirror_mode": {
    "name": "ipython",
    "version": 3
   },
   "file_extension": ".py",
   "mimetype": "text/x-python",
   "name": "python",
   "nbconvert_exporter": "python",
   "pygments_lexer": "ipython3",
   "version": "3.8.8"
  }
 },
 "nbformat": 4,
 "nbformat_minor": 5
}
